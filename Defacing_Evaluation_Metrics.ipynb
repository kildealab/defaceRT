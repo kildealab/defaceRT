{
 "cells": [
  {
   "cell_type": "code",
   "execution_count": 206,
   "id": "1181dadf",
   "metadata": {},
   "outputs": [],
   "source": [
    "\n",
    "import numpy as np\n",
    "import pydicom as dcm\n",
    "import cv2\n",
    "\n",
    "from Slice_Selection.slice_selection import *"
   ]
  },
  {
   "cell_type": "code",
   "execution_count": 48,
   "id": "afada787",
   "metadata": {},
   "outputs": [],
   "source": [
    "\n",
    "def calculate_dice_score_3d(volume1, volume2):\n",
    "    assert volume1.shape == volume2.shape, \"Volumes must have the same shape\"\n",
    "\n",
    "    intersection = np.logical_and(volume1, volume2).sum()\n",
    "    union = volume1.sum() + volume2.sum()\n",
    "\n",
    "    dice_score = 2 * intersection / union\n",
    "\n",
    "    return dice_score\n",
    "\n",
    "# # Example usage with 3D volumes\n",
    "# volume1 = np.random.randint(0, 2, size=(64, 64, 64))  # Example binary volume\n",
    "# volume2 = np.random.randint(0, 2, size=(64, 64, 64))  # Example binary volume\n",
    "\n",
    "# dice_score_3d = calculate_dice_score_3d(volume1, volume2)\n",
    "# print(f\"Dice score (3D): {dice_score_3d:.4f}\")"
   ]
  },
  {
   "cell_type": "code",
   "execution_count": 3,
   "id": "e5a41ebc",
   "metadata": {},
   "outputs": [],
   "source": [
    "def xyz_to_image_coords(X,Y,Z,spacing,origin):\n",
    "    X_new, Y_new, Z_new = [], [], []\n",
    "    for x,y,z in zip(X,Y,Z):\n",
    "        X_new.append((x-origin[0])/spacing[0])\n",
    "        Y_new.append((y-origin[1])/spacing[1])\n",
    "        Z_new.append((z-origin[2])/spacing[2])\n",
    "    \n",
    "    return X_new, Y_new, Z_new"
   ]
  },
  {
   "cell_type": "code",
   "execution_count": null,
   "id": "4880d0ed",
   "metadata": {},
   "outputs": [],
   "source": []
  },
  {
   "cell_type": "code",
   "execution_count": 87,
   "id": "42ca5b7f",
   "metadata": {},
   "outputs": [],
   "source": [
    "def xyz_to_image_coords_3D(contour,spacing,origin):\n",
    "    \n",
    "    image_coords = []\n",
    "    for slice in contour:\n",
    "        new_line = []\n",
    "        for i in range(0,len(slice),3):\n",
    "            new_line.append((slice[i]-origin[0])/spacing[0])\n",
    "            new_line.append((slice[i+1]-origin[1])/spacing[1])\n",
    "            new_line.append((slice[i+2]-origin[2])/spacing[2])\n",
    "#             print(slice[i+2],origin[2],spacing[2],'=',(slice[i+2]-origin[2])/spacing[2])\n",
    "        \n",
    "#         x_indices, y_indices, z_indices = slice[0::3], slice[1::3], slice[2::3]\n",
    "#         x,y,z = xyz_to_image_coords_contour(x_indices,y_indices,z_indices,spacing,origin)\n",
    "        image_coords.append(new_line)\n",
    "        \n",
    "    return image_coords\n",
    "        "
   ]
  },
  {
   "cell_type": "code",
   "execution_count": 5,
   "id": "7ed7ba37",
   "metadata": {},
   "outputs": [],
   "source": [
    "def convert_contours_to_volume(contours):\n",
    "    \"\"\"\n",
    "    Convert a list of 2D contours to a 3D binary volume.\n",
    "\n",
    "    Args:\n",
    "        contours (list of np.ndarray): List of binary masks (contours).\n",
    "\n",
    "    Returns:\n",
    "        np.ndarray: 3D binary volume.\n",
    "    \"\"\"\n",
    "    # Determine the dimensions of the 3D volume\n",
    "    num_slices, height, width = len(contours), contours[0].shape[0], contours[0].shape[1]\n",
    "\n",
    "    # Initialize an empty 3D volume\n",
    "    volume = np.zeros((num_slices, height, width), dtype=np.uint8)\n",
    "\n",
    "    # Stack the 2D contours to create the 3D volume\n",
    "    for i, contour in enumerate(contours):\n",
    "        volume[i, :, :] = contour\n",
    "\n",
    "    return volume\n"
   ]
  },
  {
   "cell_type": "code",
   "execution_count": 7,
   "id": "23590263",
   "metadata": {},
   "outputs": [],
   "source": [
    "# PATH = '/mnt/iDriveShare/Kayla/CBCT_images/kayla_extracted/' \n",
    "# patient = '22'\n",
    "# CT = '20180921_CT_13_SEP_2018'\n",
    "# CT_dcm = dcm.read_file(PATH+patient+'/'+CT+'/'+[f for f in os.listdir(PATH+patient+'/'+CT) if 'CT' in f][0])\n",
    "RS_AI_OG = dcm.read_file('/mnt/iDriveShare/Kayla/CBCT_images/anonymized/RS.1.2.826.0.1.3680043.8.498.27944685974298517235273490150576291706.dcm')\n",
    "RS_AI_A = dcm.read_file('/mnt/iDriveShare/Kayla/CBCT_images/anonymized/RS.1.2.826.0.1.3680043.8.498.10226744751331547397587265316063475652.dcm')\n",
    "RS_743 = dcm.read_file('/mnt/iDriveShare/Kayla/CBCT_images/anonymized/TEST_FULL_743/OG_CT/RS.1.2.246.352.221.54162806448186087767563333417651109794.dcm')\n",
    "\n",
    "# RS_limb = dcm.read_file('/mnt/iDriveShare/Kayla/CBCT_images/anonymized/22/RS.1.2.246.352.205.5548404720262746199.8088424948936543396.dcm')\n",
    "# RS_22 = dcm.read_file('/mnt/iDriveShare/Kayla/CBCT_images/kayla_extracted/22/20180921_CT_13_SEP_2018/RS.1.2.246.352.221.573469055763021206212901379500416462245.dcm')"
   ]
  },
  {
   "cell_type": "code",
   "execution_count": 148,
   "id": "53eae39e",
   "metadata": {},
   "outputs": [],
   "source": [
    "#743\n",
    "PATH = '/mnt/iDriveShare/Kayla/CBCT_images/kayla_extracted/' \n",
    "# patient = '743'\n",
    "# CT = '20180921_CT_13_SEP_2018'\n",
    "ct_path = '/mnt/iDriveShare/Kayla/CBCT_images/anonymized/TEST_FULL_743/Anon_CT/'\n",
    "CT_dcm = dcm.read_file(ct_path+[f for f in os.listdir(ct_path) if 'CT' in f][0])\n",
    "RS_AI_OG = dcm.read_file('/mnt/iDriveShare/Kayla/CBCT_images/anonymized/RS.1.2.826.0.1.3680043.8.498.27944685974298517235273490150576291706.dcm')\n",
    "RS_AI_A = dcm.read_file('/mnt/iDriveShare/Kayla/CBCT_images/anonymized/RS.1.2.826.0.1.3680043.8.498.10226744751331547397587265316063475652.dcm')\n",
    "RS_743 = dcm.read_file('/mnt/iDriveShare/Kayla/CBCT_images/anonymized/TEST_FULL_743/OG_CT/RS.1.2.246.352.221.54162806448186087767563333417651109794.dcm')\n"
   ]
  },
  {
   "cell_type": "code",
   "execution_count": 149,
   "id": "b23074a5",
   "metadata": {},
   "outputs": [],
   "source": [
    "RS = RS_743"
   ]
  },
  {
   "cell_type": "code",
   "execution_count": 125,
   "id": "ec2fa956",
   "metadata": {},
   "outputs": [
    {
     "name": "stdout",
     "output_type": "stream",
     "text": [
      "RS ['BRAIN']\n",
      "LimbusAI OG ['OpticNrv_R']\n",
      "LimbusAI AN ['OpticNrv_R']\n"
     ]
    }
   ],
   "source": [
    "print(\"RS\",find_ROI_names(RS,'brain'))\n",
    "print(\"LimbusAI OG\",find_ROI_names(RS_AI_OG,'OpticNrv_R'))\n",
    "print(\"LimbusAI AN\",find_ROI_names(RS_AI_A,'OpticNrv_R'))"
   ]
  },
  {
   "cell_type": "code",
   "execution_count": 180,
   "id": "1d83af7b",
   "metadata": {},
   "outputs": [],
   "source": [
    "cont_AI_A,zs_AI_A = get_all_ROI_contours(['Eye_L'],RS_AI_A)\n",
    "cont_AI_OG, zs_AI_OG = get_all_ROI_contours(['Eye_L'],RS_AI_OG)\n",
    "cont,zs = get_all_ROI_contours(['Globe_L'],RS)"
   ]
  },
  {
   "cell_type": "code",
   "execution_count": 207,
   "id": "927586ca",
   "metadata": {},
   "outputs": [],
   "source": [
    "cont_AI_A,zs_AI_A = get_all_ROI_contours(['Brain2'],RS_AI_A)\n",
    "cont_AI_OG, zs_AI_OG = get_all_ROI_contours(['Brain3'],RS_AI_OG)\n",
    "cont,zs = get_all_ROI_contours(['BRAIN'],RS)"
   ]
  },
  {
   "cell_type": "code",
   "execution_count": 208,
   "id": "2203db36",
   "metadata": {},
   "outputs": [],
   "source": [
    "b_limb = cont_AI_A['Brain2']\n",
    "b_22 = cont_AI_OG['Brain3']\n",
    "b = cont['BRAIN']\n",
    "b_limb = b"
   ]
  },
  {
   "cell_type": "code",
   "execution_count": 182,
   "id": "4b17816b",
   "metadata": {},
   "outputs": [],
   "source": [
    "# b_limb = cont_AI_A['Brain2']\n",
    "b_22 = cont_AI_OG['Eye_L']\n",
    "b = cont['Globe_L']\n",
    "b_limb = b"
   ]
  },
  {
   "cell_type": "code",
   "execution_count": 161,
   "id": "88664599",
   "metadata": {},
   "outputs": [
    {
     "ename": "KeyError",
     "evalue": "'OpticNrv_R'",
     "output_type": "error",
     "traceback": [
      "\u001b[0;31m---------------------------------------------------------------------------\u001b[0m",
      "\u001b[0;31mKeyError\u001b[0m                                  Traceback (most recent call last)",
      "Cell \u001b[0;32mIn[161], line 1\u001b[0m\n\u001b[0;32m----> 1\u001b[0m b_limb \u001b[38;5;241m=\u001b[39m \u001b[43mcont_AI_A\u001b[49m\u001b[43m[\u001b[49m\u001b[38;5;124;43m'\u001b[39;49m\u001b[38;5;124;43mOpticNrv_R\u001b[39;49m\u001b[38;5;124;43m'\u001b[39;49m\u001b[43m]\u001b[49m\n\u001b[1;32m      2\u001b[0m b_22 \u001b[38;5;241m=\u001b[39m cont_AI_OG[\u001b[38;5;124m'\u001b[39m\u001b[38;5;124mOpticNrv_R\u001b[39m\u001b[38;5;124m'\u001b[39m]\n",
      "\u001b[0;31mKeyError\u001b[0m: 'OpticNrv_R'"
     ]
    }
   ],
   "source": [
    "b_limb = cont_AI_A['OpticNrv_R']\n",
    "b_22 = cont_AI_OG['OpticNrv_R']\n"
   ]
  },
  {
   "cell_type": "code",
   "execution_count": 209,
   "id": "ed25b673",
   "metadata": {},
   "outputs": [
    {
     "name": "stdout",
     "output_type": "stream",
     "text": [
      "57\n"
     ]
    }
   ],
   "source": [
    "height = max(len(b_22), len(b_limb))\n",
    "print(height)"
   ]
  },
  {
   "cell_type": "code",
   "execution_count": 210,
   "id": "a5d99334",
   "metadata": {},
   "outputs": [
    {
     "name": "stdout",
     "output_type": "stream",
     "text": [
      "-552.5\n"
     ]
    }
   ],
   "source": [
    "start_z = min(b_22[0][2], b_limb[0][2])\n",
    "z_spacing = b_22[0][2]-b_22[1][2]\n",
    "print(start_z)"
   ]
  },
  {
   "cell_type": "code",
   "execution_count": 211,
   "id": "17641f1a",
   "metadata": {},
   "outputs": [],
   "source": [
    "# for row in img_coords:\n",
    "#     print(row[2])"
   ]
  },
  {
   "cell_type": "code",
   "execution_count": 212,
   "id": "d4646b97",
   "metadata": {},
   "outputs": [
    {
     "name": "stdout",
     "output_type": "stream",
     "text": [
      "[-310.5, -245.5, -495.5] ['1.21289062', '1.21289062', '3.0']\n"
     ]
    }
   ],
   "source": [
    "origin = CT_dcm.ImagePositionPatient\n",
    "spacing = [CT_dcm.PixelSpacing[0],CT_dcm.PixelSpacing[1],CT_dcm.SliceThickness]\n",
    "print(origin,spacing)"
   ]
  },
  {
   "cell_type": "code",
   "execution_count": 213,
   "id": "c85e48ca",
   "metadata": {},
   "outputs": [],
   "source": [
    "x_indices, y_indices, z_indices = b_22[0::3], b_22[1::3], b_22[2::3]"
   ]
  },
  {
   "cell_type": "code",
   "execution_count": 214,
   "id": "3df9177c",
   "metadata": {},
   "outputs": [],
   "source": [
    "img_coords_22 = xyz_to_image_coords_3D(b_22,spacing,[origin[0],origin[1],start_z])\n",
    "img_coords_limb = xyz_to_image_coords_3D(b_limb,spacing,[origin[0],origin[1],start_z])"
   ]
  },
  {
   "cell_type": "code",
   "execution_count": 41,
   "id": "a832fa92",
   "metadata": {},
   "outputs": [],
   "source": [
    "def get_binary_volume(img_coords, max_z=0,rows=512, cols=512):\n",
    "    if max_z == 0:\n",
    "        max_z = max(int(s[2]) for s in img_coords)\n",
    "        \n",
    "    volume_shape = (max_z + 1, rows, cols)\n",
    "    volume_binary = np.zeros(volume_shape, dtype=np.uint8)\n",
    "\n",
    "\n",
    "\n",
    "\n",
    "    for c_slice in img_coords:\n",
    "        z = int(c_slice[2])\n",
    "#         print(z)\n",
    "        X, Y = c_slice[::3], c_slice[1::3]\n",
    "\n",
    "        cont_xy = np.array([tuple([int(x),int(y)]) for x,y in zip(X,Y)])\n",
    "        cont_xy = cont_xy.reshape((-1,1,2))\n",
    "\n",
    "\n",
    "        for i in range(0,len(volume_binary[0])):\n",
    "            for j in range(0,len(volume_binary[0][0])):\n",
    "                result = cv2.pointPolygonTest(cont_xy, (i,j), False) \n",
    "                if result == 1:\n",
    "                    volume_binary[z][j][i] = 1\n",
    "\n",
    "\n",
    "\n",
    "\n",
    "\n",
    "    return volume_binary\n",
    "\n",
    "\n"
   ]
  },
  {
   "cell_type": "code",
   "execution_count": 102,
   "id": "c3a0fc86",
   "metadata": {},
   "outputs": [],
   "source": [
    "def get_DSC_single(contour_truth, contour_test,spacing,origin):\n",
    "    height = max(len(contour_truth), len(contour_test))\n",
    "    print(height)\n",
    "#     start_z = min(contour_truth[0][2], contour_test[0][2])\n",
    "#     z_spacing = contour_truth[0][2]-contour_truth[1][2]\n",
    "\n",
    "    start_z = min(contour_truth[0][2], contour_test[0][2])\n",
    "\n",
    "    img_coords_truth = xyz_to_image_coords_3D(contour_truth,spacing,[origin[0],origin[1],start_z])\n",
    "    img_coords_test = xyz_to_image_coords_3D(contour_test,spacing,[origin[0],origin[1],start_z])\n",
    "    \n",
    "    max_z = max(max(int(s[2]) for s in img_coords_truth),max(int(s[2]) for s in img_coords_test))\n",
    "    print(max_z)\n",
    "    \n",
    "    binary_truth = get_binary_volume(img_coords_truth,max_z)\n",
    "    binary_test = get_binary_volume(img_coords_test,max_z)\n",
    "    \n",
    "    score = calculate_dice_score_3d(binary_truth, binary_test)\n",
    "    \n",
    "    return score"
   ]
  },
  {
   "cell_type": "code",
   "execution_count": 193,
   "id": "dc37cf52",
   "metadata": {},
   "outputs": [],
   "source": [
    "def get_DSC_all(RS_truth, RS_test,CT_dcm):\n",
    "    names_truth = find_ROI_names(RS_truth)\n",
    "    names_test = find_ROI_names(RS_test)\n",
    "    name_truth_not_done = names_truth.copy()\n",
    "    scores = {}\n",
    "    \n",
    "    cont_truth,zs_truth = get_all_ROI_contours(names_truth,RS_truth)\n",
    "    cont_test,zs_test = get_all_ROI_contours(names_test,RS_test)\n",
    "    \n",
    "    origin = CT_dcm.ImagePositionPatient\n",
    "    spacing = [CT_dcm.PixelSpacing[0],CT_dcm.PixelSpacing[1],CT_dcm.SliceThickness]\n",
    "    print(origin,spacing)\n",
    "    \n",
    "    for name in names_test:\n",
    "        if name not in names_truth:\n",
    "            print(\"WARNING: NO GROUND TRUTH FOR CONTOUR NAMED\", name)\n",
    "            continue\n",
    "        \n",
    "        print(name)\n",
    "            \n",
    "        try:\n",
    "            score = get_DSC_single(cont_truth[name],cont_test[name],spacing,origin)\n",
    "        \n",
    "            scores[name] = score\n",
    "            name_truth_not_done.remove(name)\n",
    "        except Exception as e:\n",
    "            print(name,\"ERROR\")\n",
    "    print(\"Names in truth not matched:\", name_truth_not_done)\n",
    "    \n",
    "    return scores\n"
   ]
  },
  {
   "cell_type": "code",
   "execution_count": 192,
   "id": "5925f0d0",
   "metadata": {},
   "outputs": [
    {
     "name": "stdout",
     "output_type": "stream",
     "text": [
      "9\n",
      "8\n"
     ]
    },
    {
     "data": {
      "text/plain": [
       "0.9274495138369484"
      ]
     },
     "execution_count": 192,
     "metadata": {},
     "output_type": "execute_result"
    }
   ],
   "source": [
    "# BRAIN\n",
    "get_DSC_single(b_22, b_limb,spacing,[origin[0],origin[1],start_z])"
   ]
  },
  {
   "cell_type": "code",
   "execution_count": 105,
   "id": "eb91680b",
   "metadata": {},
   "outputs": [
    {
     "name": "stdout",
     "output_type": "stream",
     "text": [
      "[-310.5, -245.5, -495.5] ['1.21289062', '1.21289062', '3.0']\n",
      "LN_Neck_IB_L\n",
      "16\n",
      "15\n",
      "LN_Neck_IA\n",
      "9\n",
      "8\n",
      "LN_Neck_2347AB_R\n",
      "62\n",
      "61\n",
      "LN_Neck_2347AB_L\n",
      "62\n",
      "61\n",
      "Lips\n",
      "20\n",
      "18\n",
      "Larynx\n",
      "12\n",
      "11\n",
      "Hippocampus_R\n",
      "3\n",
      "2\n",
      "Hippocampus_L\n",
      "5\n",
      "4\n",
      "Glnd_Thyroid\n",
      "30\n",
      "18\n",
      "Glnd_Submand_R\n",
      "15\n",
      "14\n",
      "Glnd_Submand_L\n",
      "15\n",
      "14\n",
      "Eye_R\n",
      "9\n",
      "8\n",
      "Eye_L\n",
      "9\n",
      "8\n",
      "Esophagus\n",
      "49\n",
      "48\n",
      "Cornea_R\n",
      "6\n",
      "5\n",
      "Cornea_L\n",
      "7\n",
      "6\n",
      "Cochlea_R\n",
      "1\n",
      "0\n"
     ]
    },
    {
     "name": "stderr",
     "output_type": "stream",
     "text": [
      "/tmp/ipykernel_1020531/560343969.py:7: RuntimeWarning: invalid value encountered in scalar divide\n",
      "  dice_score = 2 * intersection / union\n"
     ]
    },
    {
     "name": "stdout",
     "output_type": "stream",
     "text": [
      "Cochlea_L\n",
      "2\n",
      "1\n",
      "Clavicle_R\n",
      "24\n",
      "23\n",
      "Clavicle_L\n",
      "29\n",
      "28\n",
      "Cavity_Oral\n",
      "18\n",
      "17\n",
      "Brainstem\n",
      "22\n",
      "21\n",
      "WARNING: NO GROUND TRUTH FOR CONTOUR NAMED Brain2\n",
      "BrachialPlex_R\n",
      "35\n",
      "32\n",
      "BrachialPlex_L\n",
      "35\n",
      "34\n",
      "Bone_Mandible\n",
      "48\n",
      "27\n",
      "Bone_Hyoid\n",
      "15\n",
      "10\n",
      "LN_Neck_IB_R\n",
      "16\n",
      "15\n",
      "LN_Neck_L\n",
      "62\n",
      "61\n",
      "LN_Neck_R\n",
      "62\n",
      "61\n",
      "LN_Neck_V_L\n",
      "35\n",
      "36\n",
      "LN_Neck_V_R\n",
      "37\n",
      "36\n",
      "LN_Neck_VI\n",
      "33\n",
      "32\n",
      "Lung_L\n",
      "42\n",
      "41\n",
      "Lung_R\n",
      "42\n",
      "41\n",
      "OpticChiasm\n",
      "4\n",
      "2\n",
      "OpticNrv_L\n",
      "3\n",
      "2\n",
      "OpticNrv_R\n",
      "3\n",
      "2\n",
      "Parotid_L\n",
      "19\n",
      "18\n",
      "Parotid_R\n",
      "19\n",
      "18\n",
      "Pharynx\n",
      "40\n",
      "39\n",
      "Pituitary\n",
      "2\n",
      "1\n",
      "SpinalCanal\n",
      "87\n",
      "86\n",
      "SpinalCord~\n",
      "87\n",
      "86\n",
      "Names in truth not matched: ['Brain3', 'Lens_L', 'Lens_R']\n"
     ]
    },
    {
     "data": {
      "text/plain": [
       "{'LN_Neck_IB_L': 1.0,\n",
       " 'LN_Neck_IA': 1.0,\n",
       " 'LN_Neck_2347AB_R': 1.0,\n",
       " 'LN_Neck_2347AB_L': 1.0,\n",
       " 'Lips': 1.0,\n",
       " 'Larynx': 1.0,\n",
       " 'Hippocampus_R': 1.0,\n",
       " 'Hippocampus_L': 1.0,\n",
       " 'Glnd_Thyroid': 1.0,\n",
       " 'Glnd_Submand_R': 1.0,\n",
       " 'Glnd_Submand_L': 1.0,\n",
       " 'Eye_R': 0.37189000436490616,\n",
       " 'Eye_L': 0.4601552921945239,\n",
       " 'Esophagus': 1.0,\n",
       " 'Cornea_R': 0.0,\n",
       " 'Cornea_L': 0.0,\n",
       " 'Cochlea_R': nan,\n",
       " 'Cochlea_L': 1.0,\n",
       " 'Clavicle_R': 1.0,\n",
       " 'Clavicle_L': 1.0,\n",
       " 'Cavity_Oral': 1.0,\n",
       " 'Brainstem': 1.0,\n",
       " 'BrachialPlex_R': 1.0,\n",
       " 'BrachialPlex_L': 1.0,\n",
       " 'Bone_Mandible': 1.0,\n",
       " 'Bone_Hyoid': 1.0,\n",
       " 'LN_Neck_IB_R': 1.0,\n",
       " 'LN_Neck_L': 1.0,\n",
       " 'LN_Neck_R': 1.0,\n",
       " 'LN_Neck_V_L': 1.0,\n",
       " 'LN_Neck_V_R': 1.0,\n",
       " 'LN_Neck_VI': 1.0,\n",
       " 'Lung_L': 1.0,\n",
       " 'Lung_R': 1.0,\n",
       " 'OpticChiasm': 0.9906542056074766,\n",
       " 'OpticNrv_L': 0.990990990990991,\n",
       " 'OpticNrv_R': 0.9512195121951219,\n",
       " 'Parotid_L': 1.0,\n",
       " 'Parotid_R': 1.0,\n",
       " 'Pharynx': 1.0,\n",
       " 'Pituitary': 1.0,\n",
       " 'SpinalCanal': 1.0,\n",
       " 'SpinalCord~': 1.0}"
      ]
     },
     "execution_count": 105,
     "metadata": {},
     "output_type": "execute_result"
    }
   ],
   "source": [
    "get_DSC_all(RS_AI_OG, RS_AI_A, CT_dcm)"
   ]
  },
  {
   "cell_type": "code",
   "execution_count": 195,
   "id": "42e2e985",
   "metadata": {},
   "outputs": [
    {
     "ename": "NameError",
     "evalue": "name 'nan' is not defined",
     "output_type": "error",
     "traceback": [
      "\u001b[0;31m---------------------------------------------------------------------------\u001b[0m",
      "\u001b[0;31mNameError\u001b[0m                                 Traceback (most recent call last)",
      "Cell \u001b[0;32mIn[195], line 17\u001b[0m\n\u001b[1;32m      1\u001b[0m dsc_ais \u001b[38;5;241m=\u001b[39m {\u001b[38;5;124m'\u001b[39m\u001b[38;5;124mLN_Neck_IB_L\u001b[39m\u001b[38;5;124m'\u001b[39m: \u001b[38;5;241m1.0\u001b[39m,\n\u001b[1;32m      2\u001b[0m  \u001b[38;5;124m'\u001b[39m\u001b[38;5;124mLN_Neck_IA\u001b[39m\u001b[38;5;124m'\u001b[39m: \u001b[38;5;241m1.0\u001b[39m,\n\u001b[1;32m      3\u001b[0m  \u001b[38;5;124m'\u001b[39m\u001b[38;5;124mLN_Neck_2347AB_R\u001b[39m\u001b[38;5;124m'\u001b[39m: \u001b[38;5;241m1.0\u001b[39m,\n\u001b[1;32m      4\u001b[0m  \u001b[38;5;124m'\u001b[39m\u001b[38;5;124mLN_Neck_2347AB_L\u001b[39m\u001b[38;5;124m'\u001b[39m: \u001b[38;5;241m1.0\u001b[39m,\n\u001b[1;32m      5\u001b[0m  \u001b[38;5;124m'\u001b[39m\u001b[38;5;124mLips\u001b[39m\u001b[38;5;124m'\u001b[39m: \u001b[38;5;241m1.0\u001b[39m,\n\u001b[1;32m      6\u001b[0m  \u001b[38;5;124m'\u001b[39m\u001b[38;5;124mLarynx\u001b[39m\u001b[38;5;124m'\u001b[39m: \u001b[38;5;241m1.0\u001b[39m,\n\u001b[1;32m      7\u001b[0m  \u001b[38;5;124m'\u001b[39m\u001b[38;5;124mHippocampus_R\u001b[39m\u001b[38;5;124m'\u001b[39m: \u001b[38;5;241m1.0\u001b[39m,\n\u001b[1;32m      8\u001b[0m  \u001b[38;5;124m'\u001b[39m\u001b[38;5;124mHippocampus_L\u001b[39m\u001b[38;5;124m'\u001b[39m: \u001b[38;5;241m1.0\u001b[39m,\n\u001b[1;32m      9\u001b[0m  \u001b[38;5;124m'\u001b[39m\u001b[38;5;124mGlnd_Thyroid\u001b[39m\u001b[38;5;124m'\u001b[39m: \u001b[38;5;241m1.0\u001b[39m,\n\u001b[1;32m     10\u001b[0m  \u001b[38;5;124m'\u001b[39m\u001b[38;5;124mGlnd_Submand_R\u001b[39m\u001b[38;5;124m'\u001b[39m: \u001b[38;5;241m1.0\u001b[39m,\n\u001b[1;32m     11\u001b[0m  \u001b[38;5;124m'\u001b[39m\u001b[38;5;124mGlnd_Submand_L\u001b[39m\u001b[38;5;124m'\u001b[39m: \u001b[38;5;241m1.0\u001b[39m,\n\u001b[1;32m     12\u001b[0m  \u001b[38;5;124m'\u001b[39m\u001b[38;5;124mEye_R\u001b[39m\u001b[38;5;124m'\u001b[39m: \u001b[38;5;241m0.37189000436490616\u001b[39m,\n\u001b[1;32m     13\u001b[0m  \u001b[38;5;124m'\u001b[39m\u001b[38;5;124mEye_L\u001b[39m\u001b[38;5;124m'\u001b[39m: \u001b[38;5;241m0.4601552921945239\u001b[39m,\n\u001b[1;32m     14\u001b[0m  \u001b[38;5;124m'\u001b[39m\u001b[38;5;124mEsophagus\u001b[39m\u001b[38;5;124m'\u001b[39m: \u001b[38;5;241m1.0\u001b[39m,\n\u001b[1;32m     15\u001b[0m  \u001b[38;5;124m'\u001b[39m\u001b[38;5;124mCornea_R\u001b[39m\u001b[38;5;124m'\u001b[39m: \u001b[38;5;241m0.0\u001b[39m,\n\u001b[1;32m     16\u001b[0m  \u001b[38;5;124m'\u001b[39m\u001b[38;5;124mCornea_L\u001b[39m\u001b[38;5;124m'\u001b[39m: \u001b[38;5;241m0.0\u001b[39m,\n\u001b[0;32m---> 17\u001b[0m  \u001b[38;5;124m'\u001b[39m\u001b[38;5;124mCochlea_R\u001b[39m\u001b[38;5;124m'\u001b[39m: \u001b[43mnan\u001b[49m,\n\u001b[1;32m     18\u001b[0m  \u001b[38;5;124m'\u001b[39m\u001b[38;5;124mCochlea_L\u001b[39m\u001b[38;5;124m'\u001b[39m: \u001b[38;5;241m1.0\u001b[39m,\n\u001b[1;32m     19\u001b[0m  \u001b[38;5;124m'\u001b[39m\u001b[38;5;124mClavicle_R\u001b[39m\u001b[38;5;124m'\u001b[39m: \u001b[38;5;241m1.0\u001b[39m,\n\u001b[1;32m     20\u001b[0m  \u001b[38;5;124m'\u001b[39m\u001b[38;5;124mClavicle_L\u001b[39m\u001b[38;5;124m'\u001b[39m: \u001b[38;5;241m1.0\u001b[39m,\n\u001b[1;32m     21\u001b[0m  \u001b[38;5;124m'\u001b[39m\u001b[38;5;124mCavity_Oral\u001b[39m\u001b[38;5;124m'\u001b[39m: \u001b[38;5;241m1.0\u001b[39m,\n\u001b[1;32m     22\u001b[0m  \u001b[38;5;124m'\u001b[39m\u001b[38;5;124mBrainstem\u001b[39m\u001b[38;5;124m'\u001b[39m: \u001b[38;5;241m1.0\u001b[39m,\n\u001b[1;32m     23\u001b[0m  \u001b[38;5;124m'\u001b[39m\u001b[38;5;124mBrachialPlex_R\u001b[39m\u001b[38;5;124m'\u001b[39m: \u001b[38;5;241m1.0\u001b[39m,\n\u001b[1;32m     24\u001b[0m  \u001b[38;5;124m'\u001b[39m\u001b[38;5;124mBrachialPlex_L\u001b[39m\u001b[38;5;124m'\u001b[39m: \u001b[38;5;241m1.0\u001b[39m,\n\u001b[1;32m     25\u001b[0m  \u001b[38;5;124m'\u001b[39m\u001b[38;5;124mBone_Mandible\u001b[39m\u001b[38;5;124m'\u001b[39m: \u001b[38;5;241m1.0\u001b[39m,\n\u001b[1;32m     26\u001b[0m  \u001b[38;5;124m'\u001b[39m\u001b[38;5;124mBone_Hyoid\u001b[39m\u001b[38;5;124m'\u001b[39m: \u001b[38;5;241m1.0\u001b[39m,\n\u001b[1;32m     27\u001b[0m  \u001b[38;5;124m'\u001b[39m\u001b[38;5;124mLN_Neck_IB_R\u001b[39m\u001b[38;5;124m'\u001b[39m: \u001b[38;5;241m1.0\u001b[39m,\n\u001b[1;32m     28\u001b[0m  \u001b[38;5;124m'\u001b[39m\u001b[38;5;124mLN_Neck_L\u001b[39m\u001b[38;5;124m'\u001b[39m: \u001b[38;5;241m1.0\u001b[39m,\n\u001b[1;32m     29\u001b[0m  \u001b[38;5;124m'\u001b[39m\u001b[38;5;124mLN_Neck_R\u001b[39m\u001b[38;5;124m'\u001b[39m: \u001b[38;5;241m1.0\u001b[39m,\n\u001b[1;32m     30\u001b[0m  \u001b[38;5;124m'\u001b[39m\u001b[38;5;124mLN_Neck_V_L\u001b[39m\u001b[38;5;124m'\u001b[39m: \u001b[38;5;241m1.0\u001b[39m,\n\u001b[1;32m     31\u001b[0m  \u001b[38;5;124m'\u001b[39m\u001b[38;5;124mLN_Neck_V_R\u001b[39m\u001b[38;5;124m'\u001b[39m: \u001b[38;5;241m1.0\u001b[39m,\n\u001b[1;32m     32\u001b[0m  \u001b[38;5;124m'\u001b[39m\u001b[38;5;124mLN_Neck_VI\u001b[39m\u001b[38;5;124m'\u001b[39m: \u001b[38;5;241m1.0\u001b[39m,\n\u001b[1;32m     33\u001b[0m  \u001b[38;5;124m'\u001b[39m\u001b[38;5;124mLung_L\u001b[39m\u001b[38;5;124m'\u001b[39m: \u001b[38;5;241m1.0\u001b[39m,\n\u001b[1;32m     34\u001b[0m  \u001b[38;5;124m'\u001b[39m\u001b[38;5;124mLung_R\u001b[39m\u001b[38;5;124m'\u001b[39m: \u001b[38;5;241m1.0\u001b[39m,\n\u001b[1;32m     35\u001b[0m  \u001b[38;5;124m'\u001b[39m\u001b[38;5;124mOpticChiasm\u001b[39m\u001b[38;5;124m'\u001b[39m: \u001b[38;5;241m0.9906542056074766\u001b[39m,\n\u001b[1;32m     36\u001b[0m  \u001b[38;5;124m'\u001b[39m\u001b[38;5;124mOpticNrv_L\u001b[39m\u001b[38;5;124m'\u001b[39m: \u001b[38;5;241m0.990990990990991\u001b[39m,\n\u001b[1;32m     37\u001b[0m  \u001b[38;5;124m'\u001b[39m\u001b[38;5;124mOpticNrv_R\u001b[39m\u001b[38;5;124m'\u001b[39m: \u001b[38;5;241m0.9512195121951219\u001b[39m,\n\u001b[1;32m     38\u001b[0m  \u001b[38;5;124m'\u001b[39m\u001b[38;5;124mParotid_L\u001b[39m\u001b[38;5;124m'\u001b[39m: \u001b[38;5;241m1.0\u001b[39m,\n\u001b[1;32m     39\u001b[0m  \u001b[38;5;124m'\u001b[39m\u001b[38;5;124mParotid_R\u001b[39m\u001b[38;5;124m'\u001b[39m: \u001b[38;5;241m1.0\u001b[39m,\n\u001b[1;32m     40\u001b[0m  \u001b[38;5;124m'\u001b[39m\u001b[38;5;124mPharynx\u001b[39m\u001b[38;5;124m'\u001b[39m: \u001b[38;5;241m1.0\u001b[39m,\n\u001b[1;32m     41\u001b[0m  \u001b[38;5;124m'\u001b[39m\u001b[38;5;124mPituitary\u001b[39m\u001b[38;5;124m'\u001b[39m: \u001b[38;5;241m1.0\u001b[39m,\n\u001b[1;32m     42\u001b[0m  \u001b[38;5;124m'\u001b[39m\u001b[38;5;124mSpinalCanal\u001b[39m\u001b[38;5;124m'\u001b[39m: \u001b[38;5;241m1.0\u001b[39m,\n\u001b[1;32m     43\u001b[0m  \u001b[38;5;124m'\u001b[39m\u001b[38;5;124mSpinalCord~\u001b[39m\u001b[38;5;124m'\u001b[39m: \u001b[38;5;241m1.0\u001b[39m}\n",
      "\u001b[0;31mNameError\u001b[0m: name 'nan' is not defined"
     ]
    }
   ],
   "source": [
    "dsc_ais = {'LN_Neck_IB_L': 1.0,\n",
    " 'LN_Neck_IA': 1.0,\n",
    " 'LN_Neck_2347AB_R': 1.0,\n",
    " 'LN_Neck_2347AB_L': 1.0,\n",
    " 'Lips': 1.0,\n",
    " 'Larynx': 1.0,\n",
    " 'Hippocampus_R': 1.0,\n",
    " 'Hippocampus_L': 1.0,\n",
    " 'Glnd_Thyroid': 1.0,\n",
    " 'Glnd_Submand_R': 1.0,\n",
    " 'Glnd_Submand_L': 1.0,\n",
    " 'Eye_R': 0.37189000436490616,\n",
    " 'Eye_L': 0.4601552921945239,\n",
    " 'Esophagus': 1.0,\n",
    " 'Cornea_R': 0.0,\n",
    " 'Cornea_L': 0.0,\n",
    " 'Cochlea_R': nan,\n",
    " 'Cochlea_L': 1.0,\n",
    " 'Clavicle_R': 1.0,\n",
    " 'Clavicle_L': 1.0,\n",
    " 'Cavity_Oral': 1.0,\n",
    " 'Brainstem': 1.0,\n",
    " 'BrachialPlex_R': 1.0,\n",
    " 'BrachialPlex_L': 1.0,\n",
    " 'Bone_Mandible': 1.0,\n",
    " 'Bone_Hyoid': 1.0,\n",
    " 'LN_Neck_IB_R': 1.0,\n",
    " 'LN_Neck_L': 1.0,\n",
    " 'LN_Neck_R': 1.0,\n",
    " 'LN_Neck_V_L': 1.0,\n",
    " 'LN_Neck_V_R': 1.0,\n",
    " 'LN_Neck_VI': 1.0,\n",
    " 'Lung_L': 1.0,\n",
    " 'Lung_R': 1.0,\n",
    " 'OpticChiasm': 0.9906542056074766,\n",
    " 'OpticNrv_L': 0.990990990990991,\n",
    " 'OpticNrv_R': 0.9512195121951219,\n",
    " 'Parotid_L': 1.0,\n",
    " 'Parotid_R': 1.0,\n",
    " 'Pharynx': 1.0,\n",
    " 'Pituitary': 1.0,\n",
    " 'SpinalCanal': 1.0,\n",
    " 'SpinalCord~': 1.0}"
   ]
  },
  {
   "cell_type": "code",
   "execution_count": 194,
   "id": "80ec6176",
   "metadata": {},
   "outputs": [
    {
     "name": "stdout",
     "output_type": "stream",
     "text": [
      "[-310.5, -245.5, -495.5] ['1.21289062', '1.21289062', '3.0']\n",
      "WARNING: NO GROUND TRUTH FOR CONTOUR NAMED Bone_Hyoid\n",
      "WARNING: NO GROUND TRUTH FOR CONTOUR NAMED Bone_Mandible\n",
      "BrachialPlex_L\n",
      "35\n",
      "34\n",
      "BrachialPlex_R\n",
      "35\n",
      "32\n",
      "WARNING: NO GROUND TRUTH FOR CONTOUR NAMED Brain3\n",
      "WARNING: NO GROUND TRUTH FOR CONTOUR NAMED Brainstem\n",
      "Cavity_Oral\n",
      "24\n",
      "23\n",
      "WARNING: NO GROUND TRUTH FOR CONTOUR NAMED Clavicle_L\n",
      "WARNING: NO GROUND TRUTH FOR CONTOUR NAMED Clavicle_R\n",
      "Cochlea_L\n",
      "3\n",
      "2\n",
      "Cochlea_R\n",
      "3\n",
      "2\n",
      "WARNING: NO GROUND TRUTH FOR CONTOUR NAMED Cornea_L\n",
      "WARNING: NO GROUND TRUTH FOR CONTOUR NAMED Cornea_R\n",
      "WARNING: NO GROUND TRUTH FOR CONTOUR NAMED Esophagus\n",
      "WARNING: NO GROUND TRUTH FOR CONTOUR NAMED Eye_L\n",
      "WARNING: NO GROUND TRUTH FOR CONTOUR NAMED Eye_R\n",
      "Glnd_Submand_L\n",
      "15\n",
      "14\n",
      "Glnd_Submand_R\n",
      "15\n",
      "14\n",
      "Glnd_Thyroid\n",
      "33\n",
      "18\n",
      "WARNING: NO GROUND TRUTH FOR CONTOUR NAMED Hippocampus_L\n",
      "WARNING: NO GROUND TRUTH FOR CONTOUR NAMED Hippocampus_R\n",
      "WARNING: NO GROUND TRUTH FOR CONTOUR NAMED Larynx\n",
      "Lens_L\n",
      "3\n",
      "2\n",
      "Lens_R\n",
      "3\n",
      "2\n",
      "Lips\n",
      "20\n",
      "18\n",
      "WARNING: NO GROUND TRUTH FOR CONTOUR NAMED LN_Neck_2347AB_L\n",
      "WARNING: NO GROUND TRUTH FOR CONTOUR NAMED LN_Neck_2347AB_R\n",
      "WARNING: NO GROUND TRUTH FOR CONTOUR NAMED LN_Neck_IA\n",
      "WARNING: NO GROUND TRUTH FOR CONTOUR NAMED LN_Neck_IB_L\n",
      "WARNING: NO GROUND TRUTH FOR CONTOUR NAMED LN_Neck_IB_R\n",
      "WARNING: NO GROUND TRUTH FOR CONTOUR NAMED LN_Neck_L\n",
      "WARNING: NO GROUND TRUTH FOR CONTOUR NAMED LN_Neck_R\n",
      "WARNING: NO GROUND TRUTH FOR CONTOUR NAMED LN_Neck_V_L\n",
      "WARNING: NO GROUND TRUTH FOR CONTOUR NAMED LN_Neck_V_R\n",
      "WARNING: NO GROUND TRUTH FOR CONTOUR NAMED LN_Neck_VI\n",
      "WARNING: NO GROUND TRUTH FOR CONTOUR NAMED Lung_L\n",
      "WARNING: NO GROUND TRUTH FOR CONTOUR NAMED Lung_R\n",
      "WARNING: NO GROUND TRUTH FOR CONTOUR NAMED OpticChiasm\n",
      "OpticNrv_L\n",
      "4\n",
      "3\n",
      "OpticNrv_R\n",
      "3\n",
      "2\n",
      "Parotid_L\n",
      "21\n",
      "18\n",
      "Parotid_R\n",
      "19\n",
      "18\n",
      "Pharynx\n",
      "40\n",
      "39\n",
      "Pituitary\n",
      "2\n",
      "1\n",
      "WARNING: NO GROUND TRUTH FOR CONTOUR NAMED SpinalCanal\n",
      "WARNING: NO GROUND TRUTH FOR CONTOUR NAMED SpinalCord~\n",
      "Names in truth not matched: ['BODY', 'Spc_Retrophar_R', 'Spc_Retrophar_L', 'PTV_7000', 'Chiasm', 'Musc_Constrict_S', 'Musc_Constrict_M', 'Musc_Constrict_I', 'Lung~_R', 'Lung~_L', 'Lobe_Temporal_R', 'Lobe_Temporal_L', 'LARYNX_GLOTTIC', 'GTV', 'Globe_R', 'Globe_L', 'Esophagus~^2cm', 'Esophagus_S', 'CTV_7000', 'CTV_5600', 'Carina', 'BRAIN', 'Bones^RadCalc', 'MANDIBLE', 'BRACHIALPLEXS', 'BRSTEM', 'BRSTEM_PRV', 'CONSTRICTOR_MUSC', 'CORD', 'CORD_PRV', 'GTVn', 'GTVp', 'NON-PTV', 'OPTIC', 'PAROTIDS', 'PTV_5600', 'SKIN', 'Cavity_Oral-PTV', 'zDensityOverride', 'CouchSurface', 'CouchInterior', 'Skin_5mm']\n"
     ]
    }
   ],
   "source": [
    "dsc_original = get_DSC_all(RS, RS_AI_OG, CT_dcm)"
   ]
  },
  {
   "cell_type": "code",
   "execution_count": 202,
   "id": "e0d77e7e",
   "metadata": {},
   "outputs": [],
   "source": [
    "dict_names = {\n",
    "    'Bone_Mandible':'MANDIBLE',\n",
    "    'Brain3':'BRAIN',\n",
    "    'Brainstem':'BRSTEM',\n",
    "    'Esophagus':'Esophagus_S',\n",
    "    'Eye_L': 'Globe_L',\n",
    "    'Eye_R': 'Globe_R',\n",
    "    'Larynx': 'LARYNX_GLOTTIC',\n",
    "    'Lung_L':'Lung~_L',\n",
    "    'Lung_R':'Lung~_R',\n",
    "    'OpticChiasm':'Chiasm',\n",
    "    'SpinalCord~':'CORD'\n",
    "    \n",
    "    \n",
    "    \n",
    "}"
   ]
  },
  {
   "cell_type": "code",
   "execution_count": 204,
   "id": "43f95c3b",
   "metadata": {},
   "outputs": [
    {
     "name": "stdout",
     "output_type": "stream",
     "text": [
      "Bone_Mandible MANDIBLE\n",
      "52\n",
      "27\n",
      "Brain3 BRAIN\n",
      "57\n",
      "50\n",
      "Brainstem BRSTEM\n",
      "26\n",
      "24\n",
      "Esophagus Esophagus_S\n",
      "49\n",
      "48\n",
      "Eye_L Globe_L\n",
      "9\n",
      "8\n",
      "Eye_R Globe_R\n",
      "9\n",
      "8\n",
      "Larynx LARYNX_GLOTTIC\n",
      "22\n",
      "21\n",
      "Lung_L Lung~_L\n",
      "153\n",
      "41\n",
      "Lung_R Lung~_R\n",
      "180\n",
      "41\n",
      "OpticChiasm Chiasm\n",
      "4\n",
      "2\n",
      "SpinalCord~ CORD\n",
      "87\n",
      "86\n"
     ]
    }
   ],
   "source": [
    "for key in dict_names:\n",
    "#     print(entry)\n",
    "#     if key in dsc_original:\n",
    "#         continue\n",
    "    name_og = dict_names[key]\n",
    "    name_ai = key\n",
    "\n",
    "    print(name_ai, name_og)\n",
    "    cont_AI_A,zs_AI_A = get_all_ROI_contours([name_ai],RS_AI_OG)\n",
    "    cont_AI_OG, zs_AI_OG = get_all_ROI_contours([name_og],RS)\n",
    "    b_limb = cont_AI_A[name_ai]\n",
    "    b_22 = cont_AI_OG[name_og]\n",
    "    start_z = min(b_22[0][2], b_limb[0][2])\n",
    "    dsc_original[name_ai] = get_DSC_single(b_22, b_limb,spacing,[origin[0],origin[1],start_z])\n"
   ]
  },
  {
   "cell_type": "code",
   "execution_count": 205,
   "id": "c809de4b",
   "metadata": {},
   "outputs": [
    {
     "data": {
      "text/plain": [
       "{'BrachialPlex_L': 0.3387096774193548,\n",
       " 'BrachialPlex_R': 0.37109103544127864,\n",
       " 'Cavity_Oral': 0.7495161880851509,\n",
       " 'Cochlea_L': 0.09523809523809523,\n",
       " 'Cochlea_R': 0.0,\n",
       " 'Glnd_Submand_L': 0.8850719878757262,\n",
       " 'Glnd_Submand_R': 0.8389715832205683,\n",
       " 'Glnd_Thyroid': 0.8368774482372692,\n",
       " 'Lens_L': 0.8387096774193549,\n",
       " 'Lens_R': 0.6956521739130435,\n",
       " 'Lips': 0.38744212962962965,\n",
       " 'OpticNrv_L': 0.4873096446700508,\n",
       " 'OpticNrv_R': 0.8117647058823529,\n",
       " 'Parotid_L': 0.8209739161399449,\n",
       " 'Parotid_R': 0.8662751516318475,\n",
       " 'Pharynx': 0.5373825411956966,\n",
       " 'Pituitary': 0.8288288288288288,\n",
       " 'Bone_Mandible': 0.8498091949845539,\n",
       " 'Brainstem': 0.8677281077770974,\n",
       " 'Esophagus': 0.7702141259188239,\n",
       " 'Eye_L': 0.9274495138369484,\n",
       " 'Eye_R': 0.9205083478694244,\n",
       " 'Larynx': 0.47950819672131145,\n",
       " 'Lung_L': 0.9847143230574399,\n",
       " 'Lung_R': 0.9870256723017401,\n",
       " 'OpticChiasm': 0.38072289156626504,\n",
       " 'SpinalCord~': 0.6564738996929376,\n",
       " 'Brain3': 0.9767831512698403}"
      ]
     },
     "execution_count": 205,
     "metadata": {},
     "output_type": "execute_result"
    }
   ],
   "source": [
    "dsc_original"
   ]
  },
  {
   "cell_type": "code",
   "execution_count": 42,
   "id": "18990fbd",
   "metadata": {},
   "outputs": [],
   "source": [
    "# volume_binary =  []\n",
    "# img_copy = img_coords.copy()\n",
    "# for k in range(0,max([int(s[2]) for s in img_coords])):\n",
    "#     new_slice = np.zeros([512,512])\n",
    "#     if k < img_copy[0][2]:\n",
    "#         volume_binary.append(new_slice)\n",
    "#         continue\n",
    "#     print(k)\n",
    "#     for c_slice in img_copy:\n",
    "#         if k == c_slice[2]:\n",
    "#             for i in range(0,len(c_slice),3):\n",
    "                \n",
    "                \n",
    "#                 X, Y, Z = c_slice[::3], c_slice[1::3], c_slice[2::3]\n",
    "              \n",
    "\n",
    "\n",
    "#                 cont_xy = np.array([tuple([int(x),int(y)]) for x,y in zip(X,Y)])\n",
    "#                 cont_xy = cont_xy.reshape((-1,1,2))\n",
    "\n",
    "               \n",
    "#                 for i in range(0,len(new_slice)):\n",
    "#                     for j in range(0,len(new_slice[0])):\n",
    "#                         result = cv2.pointPolygonTest(cont_xy, (i,j), False) \n",
    "#                         if result == 1:\n",
    "#                             new_slice[i][j] = 1\n",
    "\n",
    "    \n",
    "#     volume_binary.append(new_slice)\n",
    "\n",
    "            \n",
    "    "
   ]
  },
  {
   "cell_type": "code",
   "execution_count": 216,
   "id": "282860ba",
   "metadata": {},
   "outputs": [
    {
     "name": "stdout",
     "output_type": "stream",
     "text": [
      "50\n"
     ]
    }
   ],
   "source": [
    "max_z = max(max(int(s[2]) for s in img_coords_22),max(int(s[2]) for s in img_coords_limb))\n",
    "print(max_z)\n",
    "bin_22 = get_binary_volume(img_coords_22,max_z)\n",
    "bin_limb = get_binary_volume(img_coords_limb,max_z)\n"
   ]
  },
  {
   "cell_type": "code",
   "execution_count": null,
   "id": "8d91cb39",
   "metadata": {},
   "outputs": [],
   "source": []
  },
  {
   "cell_type": "code",
   "execution_count": 105,
   "id": "47ba56cf",
   "metadata": {},
   "outputs": [],
   "source": [
    "\n",
    "# max_z = max(int(s[2]) for s in img_coords)\n",
    "# volume_shape = (max_z + 1, 512, 512)\n",
    "# volume_binary = np.zeros(volume_shape, dtype=np.uint8)\n",
    "\n",
    "\n",
    "\n",
    "\n",
    "# for c_slice in img_coords:\n",
    "#     z = int(c_slice[2])\n",
    "#     print(z)\n",
    "#     X, Y = c_slice[::3], c_slice[1::3]\n",
    "    \n",
    "#     cont_xy = np.array([tuple([int(x),int(y)]) for x,y in zip(X,Y)])\n",
    "#     cont_xy = cont_xy.reshape((-1,1,2))\n",
    "\n",
    "\n",
    "#     for i in range(0,len(volume_binary[0])):\n",
    "#         for j in range(0,len(volume_binary[0][0])):\n",
    "#             result = cv2.pointPolygonTest(cont_xy, (i,j), False) \n",
    "#             if result == 1:\n",
    "#                 volume_binary[z][j][i] = 1\n",
    "\n",
    "\n",
    "# # volume_binary.append(new_slice)\n",
    "\n",
    "\n"
   ]
  },
  {
   "cell_type": "code",
   "execution_count": 215,
   "id": "448dc863",
   "metadata": {},
   "outputs": [
    {
     "data": {
      "text/plain": [
       "<matplotlib.image.AxesImage at 0x7f287ad85310>"
      ]
     },
     "execution_count": 215,
     "metadata": {},
     "output_type": "execute_result"
    },
    {
     "data": {
      "image/png": "[encoded data removed]",
      "text/plain": [
       "<Figure size 1170x827 with 2 Axes>"
      ]
     },
     "metadata": {},
     "output_type": "display_data"
    }
   ],
   "source": [
    "plt.subplot(1,2,1)\n",
    "plt.imshow(bin_22[2])\n",
    "\n",
    "plt.subplot(1,2,2)\n",
    "plt.imshow(bin_limb[2])"
   ]
  },
  {
   "cell_type": "code",
   "execution_count": 171,
   "id": "6be919cd",
   "metadata": {},
   "outputs": [
    {
     "ename": "IndexError",
     "evalue": "index 90 is out of bounds for axis 0 with size 51",
     "output_type": "error",
     "traceback": [
      "\u001b[0;31m---------------------------------------------------------------------------\u001b[0m",
      "\u001b[0;31mIndexError\u001b[0m                                Traceback (most recent call last)",
      "Cell \u001b[0;32mIn[171], line 1\u001b[0m\n\u001b[0;32m----> 1\u001b[0m calculate_dice_score_3d(np\u001b[38;5;241m.\u001b[39marray([\u001b[43mbin_22\u001b[49m\u001b[43m[\u001b[49m\u001b[38;5;241;43m90\u001b[39;49m\u001b[43m]\u001b[49m]), np\u001b[38;5;241m.\u001b[39marray([bin_limb[\u001b[38;5;241m90\u001b[39m]]))\n",
      "\u001b[0;31mIndexError\u001b[0m: index 90 is out of bounds for axis 0 with size 51"
     ]
    }
   ],
   "source": [
    "calculate_dice_score_3d(np.array([bin_22[90]]), np.array([bin_limb[90]]))"
   ]
  },
  {
   "cell_type": "code",
   "execution_count": 217,
   "id": "7414ac1c",
   "metadata": {},
   "outputs": [
    {
     "data": {
      "text/plain": [
       "0.9767831512698403"
      ]
     },
     "execution_count": 217,
     "metadata": {},
     "output_type": "execute_result"
    }
   ],
   "source": [
    "calculate_dice_score_3d(bin_22, bin_limb)"
   ]
  },
  {
   "cell_type": "code",
   "execution_count": null,
   "id": "e76d9cf8",
   "metadata": {},
   "outputs": [],
   "source": []
  },
  {
   "cell_type": "code",
   "execution_count": null,
   "id": "e823bd11",
   "metadata": {},
   "outputs": [],
   "source": []
  },
  {
   "cell_type": "code",
   "execution_count": 7,
   "id": "ea8a5af2",
   "metadata": {},
   "outputs": [],
   "source": [
    "\n",
    "def calculate_ssim_3d(image1, image):\n",
    "#     image1 = sitk.ReadImage(image1_path)\n",
    "#     image2 = sitk.ReadImage(image2_path)\n",
    "\n",
    "    # Calculate SSIM\n",
    "    ssim_filter = sitk.SSIMImageFilter()\n",
    "    ssim_value = ssim_filter.Execute(image1, image2)\n",
    "\n",
    "    return ssim_value\n"
   ]
  },
  {
   "cell_type": "code",
   "execution_count": 12,
   "id": "3608f681",
   "metadata": {},
   "outputs": [],
   "source": [
    "\n",
    "def calculate_mutual_information(image1, image2):\n",
    "    # Read the images\n",
    "#     image1 = sitk.ReadImage(image1_path)\n",
    "#     image2 = sitk.ReadImage(image2_path)\n",
    "\n",
    "    # Instantiate the filter and execute\n",
    "    mi_filter = sitk.MutualInformationImageFilter()\n",
    "    mi_filter.Execute(image1, image2)\n",
    "\n",
    "    # Get the Mutual Information value\n",
    "    mutual_information = mi_filter.GetMutualInformation()\n",
    "\n",
    "    return mutual_information\n"
   ]
  },
  {
   "cell_type": "code",
   "execution_count": 3,
   "id": "ed58fb16",
   "metadata": {},
   "outputs": [],
   "source": [
    "patient_path = '/mnt/iDriveShare/Kayla/CBCT_images/kayla_extracted/19/'\n",
    "CT1_path = patient_path+'20180411_CT_09_APR_2018/'\n",
    "CT2_path = patient_path+'20180515_CT_10_MAY_2018/'"
   ]
  },
  {
   "cell_type": "code",
   "execution_count": 5,
   "id": "dbe41460",
   "metadata": {},
   "outputs": [],
   "source": [
    "CT1 = generate_sitk_image(CT1_path)\n",
    "CT2 = generate_sitk_image(CT2_path)"
   ]
  },
  {
   "cell_type": "code",
   "execution_count": 13,
   "id": "6eef39a6",
   "metadata": {},
   "outputs": [
    {
     "ename": "AttributeError",
     "evalue": "module 'SimpleITK' has no attribute 'MutualInformationImageFilter'",
     "output_type": "error",
     "traceback": [
      "\u001b[0;31m---------------------------------------------------------------------------\u001b[0m",
      "\u001b[0;31mAttributeError\u001b[0m                            Traceback (most recent call last)",
      "Cell \u001b[0;32mIn[13], line 1\u001b[0m\n\u001b[0;32m----> 1\u001b[0m \u001b[43mcalculate_mutual_information\u001b[49m\u001b[43m(\u001b[49m\u001b[43mCT1\u001b[49m\u001b[43m,\u001b[49m\u001b[43mCT1\u001b[49m\u001b[43m)\u001b[49m\n",
      "Cell \u001b[0;32mIn[12], line 7\u001b[0m, in \u001b[0;36mcalculate_mutual_information\u001b[0;34m(image1, image2)\u001b[0m\n\u001b[1;32m      1\u001b[0m \u001b[38;5;28;01mdef\u001b[39;00m \u001b[38;5;21mcalculate_mutual_information\u001b[39m(image1, image2):\n\u001b[1;32m      2\u001b[0m     \u001b[38;5;66;03m# Read the images\u001b[39;00m\n\u001b[1;32m      3\u001b[0m \u001b[38;5;66;03m#     image1 = sitk.ReadImage(image1_path)\u001b[39;00m\n\u001b[1;32m      4\u001b[0m \u001b[38;5;66;03m#     image2 = sitk.ReadImage(image2_path)\u001b[39;00m\n\u001b[1;32m      5\u001b[0m \n\u001b[1;32m      6\u001b[0m     \u001b[38;5;66;03m# Instantiate the filter and execute\u001b[39;00m\n\u001b[0;32m----> 7\u001b[0m     mi_filter \u001b[38;5;241m=\u001b[39m \u001b[43msitk\u001b[49m\u001b[38;5;241;43m.\u001b[39;49m\u001b[43mMutualInformationImageFilter\u001b[49m()\n\u001b[1;32m      8\u001b[0m     mi_filter\u001b[38;5;241m.\u001b[39mExecute(image1, image2)\n\u001b[1;32m     10\u001b[0m     \u001b[38;5;66;03m# Get the Mutual Information value\u001b[39;00m\n",
      "\u001b[0;31mAttributeError\u001b[0m: module 'SimpleITK' has no attribute 'MutualInformationImageFilter'"
     ]
    }
   ],
   "source": [
    "calculate_mutual_information(CT1,CT1)"
   ]
  },
  {
   "cell_type": "code",
   "execution_count": 2,
   "id": "057ab5e9",
   "metadata": {},
   "outputs": [],
   "source": [
    "# https://github.com/kurnianggoro/GSOC2017/blob/master/data/lbfmodel.yaml\n",
    "facemark = cv2.face.createFacemarkLBF()\n",
    "facemark.loadModel('/mnt/iDriveShare/Kayla/lbfmodel.yaml')\n",
    "\n",
    "# Initialize the face detector\n",
    "face_cascade = cv2.CascadeClassifier(cv2.data.haarcascades + 'haarcascade_frontalface_default.xml')\n",
    "\n",
    "# Read the image\n",
    "image = cv2.imread('/mnt/iDriveShare/Kayla/body1.png')\n",
    "\n",
    "# Convert the image to grayscale\n",
    "gray = cv2.cvtColor(image, cv2.COLOR_BGR2GRAY)\n",
    "\n",
    "\n"
   ]
  },
  {
   "cell_type": "code",
   "execution_count": 3,
   "id": "32d8cdb7",
   "metadata": {},
   "outputs": [
    {
     "name": "stdout",
     "output_type": "stream",
     "text": [
      "()\n"
     ]
    }
   ],
   "source": [
    "# Detect faces in the image\n",
    "faces = face_cascade.detectMultiScale(gray, 1.3, 5)\n",
    "print(faces)\n",
    "\n",
    "# If faces are found, detect landmarks\n",
    "for (x, y, w, h) in faces:\n",
    "    roi_gray = gray[y:y+h, x:x+w]\n",
    "    _, landmarks = facemark.fit(roi_gray)\n",
    "    for landmark in landmarks:\n",
    "        for x, y in landmark[0]:\n",
    "            # Draw a circle on each landmark point\n",
    "            cv2.circle(image, (x, y), 1, (0, 255, 0), -1)\n",
    "\n",
    "# # Display the output\n",
    "# cv2.imshow('Facial Landmark Detection', image)\n",
    "# cv2.waitKey(0)\n",
    "# cv2.destroyAllWindows()"
   ]
  },
  {
   "cell_type": "code",
   "execution_count": null,
   "id": "b644fbf7",
   "metadata": {},
   "outputs": [],
   "source": []
  }
 ],
 "metadata": {
  "kernelspec": {
   "display_name": "Python 3 (ipykernel)",
   "language": "python",
   "name": "python3"
  },
  "language_info": {
   "codemirror_mode": {
    "name": "ipython",
    "version": 3
   },
   "file_extension": ".py",
   "mimetype": "text/x-python",
   "name": "python",
   "nbconvert_exporter": "python",
   "pygments_lexer": "ipython3",
   "version": "3.8.10"
  }
 },
 "nbformat": 4,
 "nbformat_minor": 5
}
