{
 "cells": [
  {
   "cell_type": "code",
   "execution_count": 1,
   "id": "285c8c45-a9a4-4c43-a6b9-76c265472ced",
   "metadata": {},
   "outputs": [],
   "source": [
    "def change_uids(CT_path, output_file_path):\n",
    "    new_series_instance_uid = generate_uid()\n",
    "    new_study_instance_uid = generate_uid()\n",
    "    \n",
    "    for f in [f for f in os.listdir(CT_path) if 'CT' in f]:\n",
    "        # Load the DICOM file\n",
    "        dicom_data = dcm.dcmread(os.path.join(CT_path,f))\n",
    "\n",
    "        \n",
    "        \n",
    "        # Generate new UIDs\n",
    "        new_sop_instance_uid = generate_uid()\n",
    "       \n",
    "        # Replace UIDs\n",
    "        dicom_data.SOPInstanceUID = new_sop_instance_uid\n",
    "        dicom_data.SeriesInstanceUID = new_series_instance_uid\n",
    "        dicom_data.StudyInstanceUID = new_study_instance_uid\n",
    "\n",
    "        dicom_data.PatientID = 'non_anon_test_id'\n",
    "        dicom_data.PatientName = CT_path.split('/')[-2]\n",
    "        \n",
    "        # Save the updated DICOM file\n",
    "        dicom_data.save_as(output_file_path+'CT.'+new_sop_instance_uid+'.dcm')\n"
   ]
  },
  {
   "cell_type": "code",
   "execution_count": 3,
   "id": "54830429-efcc-4c7e-a87f-ae1a36099fc0",
   "metadata": {},
   "outputs": [],
   "source": [
    "output_path = '/data/kayla/anon_images/new_uid_cts/'\n",
    "patients_to_change = []"
   ]
  },
  {
   "cell_type": "code",
   "execution_count": 4,
   "id": "278405df-d071-479f-af50-9507671e40da",
   "metadata": {},
   "outputs": [],
   "source": [
    "for p in [p for p in patients_to_change if p not in done]:\n",
    "    print(p)\n",
    "    CT_path = os.path.join(PATH,p,get_first_CT(os.path.join(PATH,p)))\n",
    "    # print(CT_path.split('/')[-2])\n",
    "    change_uids(os.path.join(CT_path),output_path)\n",
    "    done.append(p)\n"
   ]
  },
  {
   "cell_type": "code",
   "execution_count": null,
   "id": "7af866ef-7112-4a8e-8231-1f167a6df6fe",
   "metadata": {},
   "outputs": [],
   "source": []
  }
 ],
 "metadata": {
  "kernelspec": {
   "display_name": "Python 3 (ipykernel)",
   "language": "python",
   "name": "python3"
  },
  "language_info": {
   "codemirror_mode": {
    "name": "ipython",
    "version": 3
   },
   "file_extension": ".py",
   "mimetype": "text/x-python",
   "name": "python",
   "nbconvert_exporter": "python",
   "pygments_lexer": "ipython3",
   "version": "3.10.12"
  }
 },
 "nbformat": 4,
 "nbformat_minor": 5
}
